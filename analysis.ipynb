{
 "cells": [
  {
   "cell_type": "code",
   "execution_count": 1,
   "metadata": {},
   "outputs": [],
   "source": [
    "import os\n",
    "from modules.TCXFile import TCXFile\n",
    "from collections import defaultdict\n",
    "\n",
    "tcxdir = 'F:/jooks'"
   ]
  },
  {
   "cell_type": "code",
   "execution_count": 2,
   "metadata": {},
   "outputs": [],
   "source": [
    "def default_value():\n",
    "    return []\n",
    "\n",
    "categories = defaultdict(default_value)\n",
    "\n",
    "for file in os.listdir(tcxdir):\n",
    "    tcx = TCXFile(os.path.join(tcxdir, file))\n",
    "    activities = tcx.get_activies()\n",
    "    sport = \"\"\n",
    "    if 'walk' in activities[0].sport.lower():\n",
    "        sport = 'walk'\n",
    "    elif 'run' in activities[0].sport.lower():\n",
    "        sport = 'run'\n",
    "    else:\n",
    "        sport = activities[0].sport.lower()\n",
    "    \n",
    "    distance = sum([x.distancemeters for x in activities])\n",
    "    timeelapsed = sum([x.totaltimeseconds for x in activities])\n",
    "\n",
    "    categories[sport].append((distance, timeelapsed, int(activities[0].id[:4])))"
   ]
  },
  {
   "cell_type": "code",
   "execution_count": 12,
   "metadata": {},
   "outputs": [
    {
     "name": "stdout",
     "output_type": "stream",
     "text": [
      "walk: 282224.4 minutes : 3403.9 kilometers\n",
      "biking: 1367.0 minutes : 129.5 kilometers\n",
      "run: 17348.9 minutes : 3010.0 kilometers\n",
      "hiking: 264.4 minutes : 24.6 kilometers\n",
      "skiing.cross_country: 105.8 minutes : 12.9 kilometers\n"
     ]
    }
   ],
   "source": [
    "for category in categories.keys():\n",
    "    distances, times, _ = zip(*categories[category])\n",
    "    print(f'{category}: {sum(times)/60.0:.1f} minutes : {sum(distances)/1000.0:.1f} kilometers')"
   ]
  },
  {
   "cell_type": "code",
   "execution_count": 5,
   "metadata": {},
   "outputs": [],
   "source": [
    "import matplotlib.pyplot as pyplot"
   ]
  },
  {
   "cell_type": "code",
   "execution_count": 6,
   "metadata": {},
   "outputs": [
    {
     "data": {
      "image/png": "[encoded data removed]",
      "text/plain": [
       "<Figure size 640x480 with 1 Axes>"
      ]
     },
     "metadata": {},
     "output_type": "display_data"
    }
   ],
   "source": [
    "years = []\n",
    "distances = []\n",
    "\n",
    "for distance, time, year in categories['run']:\n",
    "    if str(year) not in years:\n",
    "        years.append(str(year))\n",
    "        distances.append(distance/1000.0)\n",
    "    else:\n",
    "        distances[-1] += distance/1000.0\n",
    "\n",
    "pyplot.bar(years, distances)\n",
    "pyplot.tight_layout()\n",
    "pyplot.show()"
   ]
  }
 ],
 "metadata": {
  "kernelspec": {
   "display_name": "Python 3",
   "language": "python",
   "name": "python3"
  },
  "language_info": {
   "codemirror_mode": {
    "name": "ipython",
    "version": 3
   },
   "file_extension": ".py",
   "mimetype": "text/x-python",
   "name": "python",
   "nbconvert_exporter": "python",
   "pygments_lexer": "ipython3",
   "version": "3.11.5"
  }
 },
 "nbformat": 4,
 "nbformat_minor": 2
}
